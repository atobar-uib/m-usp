{
 "cells": [
  {
   "cell_type": "code",
   "execution_count": 1,
   "metadata": {},
   "outputs": [],
   "source": [
    "import alpha_beta as ab\n",
    "import pandas as pd\n",
    "\n",
    "df = pd.read_csv('/workspaces/python-2/data_abalon/abalon.csv')\n",
    "\n",
    "df[\"Sex\"] = pd.Categorical(df['Sex']).codes\n",
    "df[\"Class\"] = df['Class'].astype(int)\n",
    "\n",
    "df[\"Class\"].value_counts()"
   ]
  },
  {
   "cell_type": "code",
   "execution_count": 2,
   "metadata": {},
   "outputs": [],
   "source": [
    "#Normalize data\n",
    "\n",
    "qi = [\"Length\",'Diameter','Height','Whole_weight','Shucked_weight','Viscera_weight','Shell_weight'] \n",
    "df[qi]=(df[qi]-df[qi].min())/(df[qi].max()-df[qi].min())"
   ]
  },
  {
   "cell_type": "code",
   "execution_count": 3,
   "metadata": {},
   "outputs": [],
   "source": [
    "publication_size = 1500\n",
    "intersection = 10\n",
    "# Assign unique identifier\n",
    "df['identifier'] = df.reset_index().index + 1\n",
    "\n",
    "\n"
   ]
  },
  {
   "cell_type": "code",
   "execution_count": 4,
   "metadata": {},
   "outputs": [
    {
     "data": {
      "text/plain": [
       "Class\n",
       "(8.0, 9.0]      689\n",
       "(9.0, 10.0]     634\n",
       "(7.0, 8.0]      568\n",
       "(10.0, 11.0]    487\n",
       "(1.0, 6.0]      447\n",
       "(6.0, 7.0]      391\n",
       "(11.0, 12.0]    267\n",
       "(15.0, 29.0]    261\n",
       "(13.0, 15.0]    229\n",
       "(12.0, 13.0]    203\n",
       "Name: count, dtype: int64"
      ]
     },
     "execution_count": 4,
     "metadata": {},
     "output_type": "execute_result"
    }
   ],
   "source": [
    "#Reduce number of groups!\n",
    "bin_edges =[ 1.0,  6.0,   7,  8.0, 9.0,  10.0, 11.0,\n",
    "       12.0, 13.0, 15.0, 29.0]\n",
    "\n",
    "# Use cut to create bins with similar sizes\n",
    "df['Class'] = pd.cut(df['Class'], bins=bin_edges )#, labels=[i for i in range(len(bin_edges)-1)])\n",
    "\n",
    "\n",
    "counts  = df['Class'].value_counts().to_list()\n",
    "#counts\n",
    "df['Class'].value_counts()\n",
    "#df.loc[df[\"identifier\"]==237]\n",
    "#Make class categorical \n",
    "#df[\"Class\"] = pd.Categorical(df['Class']).codes\n"
   ]
  },
  {
   "cell_type": "code",
   "execution_count": 218,
   "metadata": {},
   "outputs": [
    {
     "data": {
      "text/plain": [
       "Class\n",
       "3    689\n",
       "4    634\n",
       "2    568\n",
       "5    487\n",
       "0    447\n",
       "1    391\n",
       "6    267\n",
       "9    261\n",
       "8    229\n",
       "7    203\n",
       "Name: count, dtype: int64"
      ]
     },
     "execution_count": 218,
     "metadata": {},
     "output_type": "execute_result"
    }
   ],
   "source": [
    "\n",
    "counts = df['Class'].value_counts().to_list()\n",
    "\n",
    "df['Class'].value_counts()\n"
   ]
  },
  {
   "cell_type": "code",
   "execution_count": 219,
   "metadata": {},
   "outputs": [
    {
     "data": {
      "text/plain": [
       "True"
      ]
     },
     "execution_count": 219,
     "metadata": {},
     "output_type": "execute_result"
    }
   ],
   "source": [
    "\n",
    "ab.check_eligibility(counts,6)"
   ]
  },
  {
   "cell_type": "code",
   "execution_count": 220,
   "metadata": {},
   "outputs": [],
   "source": [
    "\n",
    "#First publication\n",
    "df1 = df.sample(n=publication_size)\n",
    "#rest of tuples\n",
    "df_rest = pd.concat([df1,df]).drop_duplicates(keep=False)\n",
    "#second publication k= instersection size\n",
    "df2_unique = df_rest.sample(n=publication_size-intersection)\n",
    "df2_intersect = df1.sample(n=intersection)\n",
    "df2 = pd.concat([df2_unique,df2_intersect])\n",
    "#compute rest of dataset to use as test\n",
    "df_rest = pd.concat([df2,df_rest]).drop_duplicates(keep=False)\n",
    "#shuffle and store\n",
    "df1 = df1.sample(frac=1).reset_index(drop=True)\n",
    "df2 = df2.sample(frac=1).reset_index(drop=True)"
   ]
  },
  {
   "cell_type": "code",
   "execution_count": 221,
   "metadata": {},
   "outputs": [],
   "source": [
    "df1.dropna(inplace=True)\n",
    "df2.dropna(inplace=True)\n",
    "\n",
    "df1.to_csv(\"/workspaces/python-2/data_abalon/abalon1_\"+str(publication_size)+\"_\"+str(intersection)+\".csv\",index=False)\n",
    "df2.to_csv(\"/workspaces/python-2/data_abalon/abalon2_\"+str(publication_size)+\"_\"+str(intersection)+\".csv\",index=False)\n",
    "df_rest.to_csv(\"/workspaces/python-2/data_abalon/abalon_test.csv\",index=False)"
   ]
  },
  {
   "cell_type": "code",
   "execution_count": 222,
   "metadata": {},
   "outputs": [],
   "source": [
    "test_train = True\n",
    "train_size = 3000\n",
    "\n",
    "\n",
    "if test_train:\n",
    "    \n",
    "    df1 = df.sample(n=train_size)\n",
    "    #rest of tuples\n",
    "    df_rest = pd.concat([df,df1]).drop_duplicates(keep=False)\n",
    "\n",
    "    df1.to_csv(\"/workspaces/python-2/data_abalon/abalon_alt_train.csv\",index=False)\n",
    "    df_rest.to_csv(\"/workspaces/python-2/data_abalon/abalon_alt_test.csv\",index=False)\n",
    "\n"
   ]
  },
  {
   "cell_type": "code",
   "execution_count": 224,
   "metadata": {},
   "outputs": [
    {
     "data": {
      "text/plain": [
       "False"
      ]
     },
     "execution_count": 224,
     "metadata": {},
     "output_type": "execute_result"
    }
   ],
   "source": [
    "df_1 = pd.read_csv(\"/workspaces/python-2/data_abalon/abalon1_1500_10.csv\")\n",
    "\n",
    "counts = df_1[\"Class\"].value_counts().to_list()\n",
    "\n",
    "ab.check_eligibility(counts,6)\n"
   ]
  }
 ],
 "metadata": {
  "kernelspec": {
   "display_name": "Python 3",
   "language": "python",
   "name": "python3"
  },
  "language_info": {
   "codemirror_mode": {
    "name": "ipython",
    "version": 3
   },
   "file_extension": ".py",
   "mimetype": "text/x-python",
   "name": "python",
   "nbconvert_exporter": "python",
   "pygments_lexer": "ipython3",
   "version": "3.12.2"
  }
 },
 "nbformat": 4,
 "nbformat_minor": 2
}
