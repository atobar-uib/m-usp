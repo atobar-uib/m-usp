{
 "cells": [
  {
   "cell_type": "code",
   "execution_count": 6,
   "metadata": {},
   "outputs": [],
   "source": [
    "import alpha_beta as ab\n",
    "import pandas as pd\n",
    "\n",
    "df = pd.read_csv(\"/workspaces/python-2/data_adult/adult.csv\")\n",
    "df = df[[\"age\",\"educational-num\",\"gender\",\"occupation\",\"income\"]]\n",
    "\n",
    "#drop NA\n",
    "df = df[df['occupation'] != \"?\"]\n",
    "#numeralize\n",
    "df['gender'] = pd.Categorical(df['gender']).codes\n",
    "df['income'] = pd.Categorical(df['income']).codes\n",
    "df['occupation'] = pd.Categorical(df['occupation']).codes\n",
    "\n",
    "qi = [\"age\",\"educational-num\",\"gender\",\"income\"]\n",
    "df[qi]=(df[qi]-df[qi].min())/(df[qi].max()-df[qi].min())\n",
    "\n",
    "publication_size = 5000\n",
    "intersection = 20"
   ]
  },
  {
   "cell_type": "code",
   "execution_count": 7,
   "metadata": {},
   "outputs": [],
   "source": [
    "\n",
    "#df = df[df['workclass'] != \"?\"]\n",
    "\n",
    "# Assign unique identifier\n",
    "df['identifier'] = df.reset_index().index + 1\n",
    "\n"
   ]
  },
  {
   "cell_type": "code",
   "execution_count": 8,
   "metadata": {},
   "outputs": [],
   "source": [
    "#First publication\n",
    "df1 = df.sample(n=publication_size)\n",
    "#rest of tuples\n",
    "df_rest = pd.concat([df1,df]).drop_duplicates(keep=False)\n",
    "#second publication k= instersection size\n",
    "df2_unique = df_rest.sample(n=publication_size-intersection)\n",
    "df2_intersect = df1.sample(n=intersection)\n",
    "df2 = pd.concat([df2_unique,df2_intersect])\n",
    "\n",
    "#remaining tuples\n",
    "\n",
    "df_rest =pd.concat([df_rest,df2_unique]).drop_duplicates(keep=False)\n",
    "df_rest.to_csv(\"/workspaces/python-2/data_adult/adult_test.csv\",index=False)\n"
   ]
  },
  {
   "cell_type": "code",
   "execution_count": 9,
   "metadata": {},
   "outputs": [],
   "source": [
    "#Shuffle order and store them\n",
    "df1 = df1.sample(frac=1).reset_index(drop=True)\n",
    "df2 = df2.sample(frac=1).reset_index(drop=True)\n",
    "\n",
    "df1.to_csv(\"/workspaces/python-2/data_adult/adult1_\"+str(publication_size)+\"_\"+str(intersection)+\".csv\",index=False)\n",
    "df2.to_csv(\"/workspaces/python-2/data_adult/adult2_\"+str(publication_size)+\"_\"+str(intersection)+\".csv\",index=False)"
   ]
  },
  {
   "cell_type": "code",
   "execution_count": 10,
   "metadata": {},
   "outputs": [
    {
     "data": {
      "text/plain": [
       "True"
      ]
     },
     "execution_count": 10,
     "metadata": {},
     "output_type": "execute_result"
    }
   ],
   "source": [
    "#Check eligibility\n",
    "\n",
    "counts = df2[\"occupation\"].value_counts().to_list()\n",
    "m=7\n",
    "ab.check_eligibility(counts,m)\n",
    "\n",
    "\n",
    "\n"
   ]
  }
 ],
 "metadata": {
  "kernelspec": {
   "display_name": "Python 3",
   "language": "python",
   "name": "python3"
  },
  "language_info": {
   "codemirror_mode": {
    "name": "ipython",
    "version": 3
   },
   "file_extension": ".py",
   "mimetype": "text/x-python",
   "name": "python",
   "nbconvert_exporter": "python",
   "pygments_lexer": "ipython3",
   "version": "3.12.2"
  }
 },
 "nbformat": 4,
 "nbformat_minor": 2
}
