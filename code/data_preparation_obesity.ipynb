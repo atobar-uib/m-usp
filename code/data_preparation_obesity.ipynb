{
 "cells": [
  {
   "cell_type": "code",
   "execution_count": 7,
   "metadata": {},
   "outputs": [],
   "source": [
    "import pandas as pd\n",
    "import alpha_beta as ab\n",
    "\n",
    "\n",
    "\n",
    "\n",
    "\n",
    "df = pd.read_csv(\"/workspaces/python-2/data_obesity/obesity.csv\")\n",
    "df = df[[\"Gender\",\"Age\",\"Height\",\"Weight\",\"NCP\",\"CH2O\",\"FAF\",\"NObeyesdad\"]]\n",
    "\n",
    "df[\"Gender\"] = pd.Categorical(df['Gender']).codes\n",
    "df[\"NObeyesdad\"] = pd.Categorical(df['NObeyesdad']).codes\n",
    "\n",
    "#Normalize data\n",
    "\n",
    "qi = [\"Gender\",\"Age\",\"Height\",\"Weight\",\"NCP\",\"CH2O\",\"FAF\"] \n",
    "df[qi]=(df[qi]-df[qi].min())/(df[qi].max()-df[qi].min())\n",
    "\n",
    "#Insufficient_Weight, Normal_Weight, Overweight_Level_I, Overweight Level II, Obesity Type I, Obesity Type II, and Obesity Type III"
   ]
  },
  {
   "cell_type": "code",
   "execution_count": 8,
   "metadata": {},
   "outputs": [],
   "source": [
    "publication_size = 750\n",
    "intersection = 7\n",
    "# Assign unique identifier\n",
    "df['identifier'] = df.reset_index().index + 1\n",
    "#First publication\n",
    "df1 = df.sample(n=publication_size)\n",
    "#rest of tuples\n",
    "df_rest = pd.concat([df1,df]).drop_duplicates(keep=False)\n",
    "#second publication k= instersection size\n",
    "df2_unique = df_rest.sample(n=publication_size-intersection)\n",
    "df2_intersect = df1.sample(n=intersection)\n",
    "df2 = pd.concat([df2_unique,df2_intersect])\n",
    "df_rest = pd.concat([df2,df_rest]).drop_duplicates(keep=False)\n",
    "#shuffle and store\n",
    "df1 = df1.sample(frac=1).reset_index(drop=True)\n",
    "df2 = df2.sample(frac=1).reset_index(drop=True)\n",
    "\n",
    "df1.to_csv(\"/workspaces/python-2/data_obesity/obesity1_\"+str(publication_size)+\"_\"+str(intersection)+\".csv\",index=False)\n",
    "df2.to_csv(\"/workspaces/python-2/data_obesity/obesity2_\"+str(publication_size)+\"_\"+str(intersection)+\".csv\",index=False)\n",
    "df_rest.to_csv(\"/workspaces/python-2/data_obesity/obesity_test.csv\",index=False)"
   ]
  }
 ],
 "metadata": {
  "kernelspec": {
   "display_name": "Python 3",
   "language": "python",
   "name": "python3"
  },
  "language_info": {
   "codemirror_mode": {
    "name": "ipython",
    "version": 3
   },
   "file_extension": ".py",
   "mimetype": "text/x-python",
   "name": "python",
   "nbconvert_exporter": "python",
   "pygments_lexer": "ipython3",
   "version": "3.12.2"
  }
 },
 "nbformat": 4,
 "nbformat_minor": 2
}
